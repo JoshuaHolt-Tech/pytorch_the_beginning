{
 "cells": [
  {
   "cell_type": "markdown",
   "id": "801a491b-5687-4107-8ea1-04e09d2ce930",
   "metadata": {},
   "source": [
    "## Tensor Operations:\n",
    "A tensor is a multi-dimensional array, similar to a NumPy array.\n",
    "In PyTorch, tensors can be created using the torch.Tensor class.\n",
    "Basic tensor operations like addition, subtraction, multiplication, and division can be performed using the standard arithmetic operators +, -, *, /.\n",
    "Here are some short exercises to help you get started:"
   ]
  },
  {
   "cell_type": "markdown",
   "id": "d333a049-c63b-4170-a466-0d796f65d33d",
   "metadata": {},
   "source": [
    "### Exercise 1: Creating Tensors\n",
    "Create a 2x3 tensor filled with zeros and a 3x2 tensor filled with ones using PyTorch. Print the tensors to verify that they are created correctly."
   ]
  },
  {
   "cell_type": "code",
   "execution_count": 1,
   "id": "50bd108a-890f-416d-b400-6710456d4a6b",
   "metadata": {},
   "outputs": [],
   "source": [
    "import torch\n",
    "import torch.nn as nn"
   ]
  },
  {
   "cell_type": "code",
   "execution_count": 2,
   "id": "c826ade2-daa5-42c9-b829-f4cbde09dcca",
   "metadata": {},
   "outputs": [
    {
     "name": "stdout",
     "output_type": "stream",
     "text": [
      "tensor([[0., 0., 0.],\n",
      "        [0., 0., 0.]])\n",
      "tensor([[1., 1.],\n",
      "        [1., 1.],\n",
      "        [1., 1.]])\n",
      "tensor([[6, 1, 7, 5, 3, 7],\n",
      "        [1, 7, 0, 7, 3, 8],\n",
      "        [5, 5, 8, 1, 1, 8],\n",
      "        [2, 5, 4, 6, 5, 1]])\n"
     ]
    }
   ],
   "source": [
    "# Create a 2x3 tensor filled with zeros\n",
    "zeros_tensor = torch.zeros(2, 3)\n",
    "print(zeros_tensor)\n",
    "\n",
    "# Create a 3x2 tensor filled with ones\n",
    "ones_tensor = torch.ones(3, 2)\n",
    "print(ones_tensor)\n",
    "\n",
    "rand_tensor = torch.randint(0, 9, (4,6))\n",
    "print(rand_tensor)"
   ]
  },
  {
   "cell_type": "markdown",
   "id": "907fd5d7-8b39-4789-8593-7eb159227de9",
   "metadata": {},
   "source": [
    "### Exercise 2: Performing Basic Tensor Operations\n",
    "Perform basic tensor operations using PyTorch. Create two tensors of the same shape and perform addition, subtraction, multiplication, and division."
   ]
  },
  {
   "cell_type": "code",
   "execution_count": 3,
   "id": "21fa3e31-d2c5-4dcd-ab81-58055cfeac0a",
   "metadata": {},
   "outputs": [
    {
     "name": "stdout",
     "output_type": "stream",
     "text": [
      "tensor([[ 6,  8],\n",
      "        [10, 12]])\n",
      "tensor([[-4, -4],\n",
      "        [-4, -4]])\n",
      "tensor([[ 5, 12],\n",
      "        [21, 32]])\n",
      "tensor([[0.2000, 0.3333],\n",
      "        [0.4286, 0.5000]])\n"
     ]
    }
   ],
   "source": [
    "# Create two tensors of the same shape\n",
    "a = torch.tensor([[1, 2], [3, 4]])\n",
    "b = torch.tensor([[5, 6], [7, 8]])\n",
    "\n",
    "# Perform addition\n",
    "c = a + b\n",
    "print(c)\n",
    "\n",
    "# Perform subtraction\n",
    "d = a - b\n",
    "print(d)\n",
    "\n",
    "# Perform multiplication\n",
    "e = a * b\n",
    "print(e)\n",
    "\n",
    "# Perform division\n",
    "f = a / b\n",
    "print(f)\n"
   ]
  },
  {
   "cell_type": "markdown",
   "id": "4edc04b1-c7a9-4857-acb7-67a6bece11dc",
   "metadata": {},
   "source": [
    "## Automatic Differentiation:\n",
    "- Learn about automatic differentiation, a key feature of PyTorch that makes it easy to compute gradients for optimization\n",
    "- Understand the basics of backpropagation, which is used to train deep neural networks"
   ]
  },
  {
   "cell_type": "markdown",
   "id": "352ecaf5-5951-4c76-b326-0247a67f98cc",
   "metadata": {},
   "source": [
    "## Building Neural Networks:\n",
    "- Learn how to build neural networks using PyTorch's nn module\n",
    "    - PyTorch's nn module makes it easy to construct and train neural networks. The basic idea is to define a neural network as a sequence of layers, where each layer performs a specific computation on the input data. PyTorch provides several types of layers, such as linear layers, convolutional layers, and recurrent layers, as well as various activation functions that can be used between the layers to introduce nonlinearity into the model.\n",
    "    - A simple example of building a neural network with PyTorch's nn module might involve defining a network architecture with a few layers (e.g., fully connected layers, convolutional layers, etc.) and specifying the activation functions to use between each layer. Here's a basic example:\n",
    "- Understand the different types of layers and activation functions used in neural networks"
   ]
  },
  {
   "cell_type": "markdown",
   "id": "60095ff7-7a1d-4e04-b970-3cecfe94efb6",
   "metadata": {},
   "source": [
    "Example:"
   ]
  },
  {
   "cell_type": "code",
   "execution_count": 4,
   "id": "01e0ece4-2273-4f4b-8ddb-880f8fb44c50",
   "metadata": {},
   "outputs": [],
   "source": [
    "# Define a neural network with one hidden layer\n",
    "class MyNet(nn.Module):\n",
    "    def __init__(self, input_size, hidden_size, output_size):\n",
    "        super(MyNet, self).__init__()\n",
    "        self.hidden = nn.Linear(input_size, hidden_size)\n",
    "        self.output = nn.Linear(hidden_size, output_size)\n",
    "        \n",
    "    def forward(self, x):\n",
    "        x = torch.relu(self.hidden(x))\n",
    "        x = self.output(x)\n",
    "        return x\n",
    "\n",
    "# Instantiate the neural network\n",
    "net = MyNet(input_size=10, hidden_size=20, output_size=1)\n",
    "\n",
    "# Apply the neural network to some input data\n",
    "x = torch.randn(32, 10)\n",
    "y = net(x)\n",
    "\n"
   ]
  },
  {
   "cell_type": "markdown",
   "id": "7e739a8f-34cb-44dc-bf92-61c7f41bea28",
   "metadata": {},
   "source": [
    "In this example, we define a neural network with one hidden layer using PyTorch's nn module. The __init__ method initializes the layers of the network, and the forward method defines how the input data is transformed as it passes through the network. We also instantiate the neural network and apply it to some random input data."
   ]
  },
  {
   "cell_type": "markdown",
   "id": "3b00cf1d-6c9d-4512-b6d1-8e8b053762d8",
   "metadata": {},
   "source": [
    "Here are some exercises you can try to build your understanding of building neural networks in PyTorch:"
   ]
  },
  {
   "cell_type": "markdown",
   "id": "fb72a818-70ca-4aa6-88df-8b48a4b12721",
   "metadata": {},
   "source": [
    "1. Define a neural network with two hidden layers using the nn module.\n",
    "- Use the ReLU activation function for the hidden layers and the sigmoid activation function for the output layer.\n",
    "- Make the network input size 784 (for images in the MNIST dataset),\n",
    "    - the first hidden layer size 256\n",
    "    - the second hidden layer size 128\n",
    "    - the output layer size 10 (for the 10 possible digit classes)."
   ]
  },
  {
   "cell_type": "code",
   "execution_count": 5,
   "id": "4321ec36-1524-4ab0-9996-9d9aa3906f3a",
   "metadata": {},
   "outputs": [],
   "source": [
    "# Define a neural network with two hidden layers\n",
    "class MyNet(nn.Module):\n",
    "    def __init__(self):\n",
    "        super(MyNet, self).__init__()\n",
    "        self.hidden1 = nn.Linear(784, 256)\n",
    "        self.hidden2 = nn.Linear(256, 128)\n",
    "        self.output = nn.Linear(128, 10)\n",
    "\n",
    "    #The forward method is called internally for the MyNet class by the __call__ method.\n",
    "    def forward(self, x):\n",
    "        x = torch.relu(self.hidden1(x))\n",
    "        x = torch.relu(self.hidden2(x))\n",
    "        x = torch.sigmoid(self.output(x))\n",
    "        return x\n",
    "\n",
    "# Instantiate the neural network\n",
    "net = MyNet()\n",
    "\n",
    "# Apply the neural network to some input data\n",
    "x = torch.randn(32, 784)\n",
    "y = net(x)"
   ]
  },
  {
   "cell_type": "code",
   "execution_count": 6,
   "id": "f3577530-42f8-4626-bd6b-85eafe7ad64d",
   "metadata": {},
   "outputs": [
    {
     "data": {
      "text/plain": [
       "tensor([[0.4878, 0.5164, 0.4825, 0.4367, 0.5052, 0.5202, 0.5181, 0.4485, 0.4437,\n",
       "         0.5232],\n",
       "        [0.4469, 0.4917, 0.5048, 0.4503, 0.5011, 0.5050, 0.5291, 0.4710, 0.4645,\n",
       "         0.5475],\n",
       "        [0.4889, 0.5064, 0.4846, 0.4711, 0.5018, 0.4856, 0.5136, 0.4868, 0.4779,\n",
       "         0.5180],\n",
       "        [0.4889, 0.5429, 0.4974, 0.4521, 0.4971, 0.5038, 0.5274, 0.4596, 0.4710,\n",
       "         0.5384],\n",
       "        [0.4996, 0.5237, 0.5253, 0.4723, 0.5019, 0.4860, 0.5225, 0.4906, 0.4650,\n",
       "         0.5490],\n",
       "        [0.4659, 0.5268, 0.4937, 0.4814, 0.4915, 0.4839, 0.5026, 0.4484, 0.4911,\n",
       "         0.5483],\n",
       "        [0.4740, 0.4887, 0.5143, 0.4540, 0.5100, 0.5168, 0.4976, 0.4616, 0.4572,\n",
       "         0.5261],\n",
       "        [0.4848, 0.5180, 0.4662, 0.4627, 0.4928, 0.4872, 0.5367, 0.4900, 0.4803,\n",
       "         0.5520],\n",
       "        [0.4798, 0.5079, 0.5056, 0.4484, 0.4851, 0.4766, 0.5198, 0.4655, 0.4739,\n",
       "         0.5515],\n",
       "        [0.4938, 0.4832, 0.4867, 0.5188, 0.4933, 0.4979, 0.5177, 0.4767, 0.4772,\n",
       "         0.5400],\n",
       "        [0.4993, 0.5246, 0.4843, 0.4408, 0.4724, 0.4763, 0.5364, 0.4720, 0.4667,\n",
       "         0.5371],\n",
       "        [0.4858, 0.5161, 0.4995, 0.4658, 0.5007, 0.4738, 0.5007, 0.4683, 0.4554,\n",
       "         0.5261],\n",
       "        [0.4742, 0.5223, 0.4764, 0.4851, 0.4943, 0.4840, 0.5000, 0.4657, 0.4734,\n",
       "         0.5241],\n",
       "        [0.5024, 0.5218, 0.5033, 0.4748, 0.4849, 0.5117, 0.5273, 0.5079, 0.4946,\n",
       "         0.5152],\n",
       "        [0.4679, 0.4993, 0.5034, 0.4905, 0.5127, 0.4698, 0.4906, 0.5094, 0.4798,\n",
       "         0.5356],\n",
       "        [0.4867, 0.4993, 0.4983, 0.4804, 0.5008, 0.4747, 0.4916, 0.4790, 0.4499,\n",
       "         0.5455],\n",
       "        [0.4909, 0.5296, 0.5009, 0.4710, 0.4712, 0.4904, 0.5158, 0.4817, 0.4648,\n",
       "         0.5332],\n",
       "        [0.4745, 0.5024, 0.4835, 0.4912, 0.4786, 0.4807, 0.5190, 0.4350, 0.4710,\n",
       "         0.5634],\n",
       "        [0.4966, 0.5163, 0.5093, 0.4688, 0.5064, 0.4940, 0.5134, 0.4878, 0.4522,\n",
       "         0.5389],\n",
       "        [0.4694, 0.5091, 0.5341, 0.4643, 0.5047, 0.5000, 0.4776, 0.4619, 0.4706,\n",
       "         0.5060],\n",
       "        [0.4625, 0.5132, 0.5113, 0.4835, 0.5141, 0.5089, 0.5335, 0.4894, 0.4693,\n",
       "         0.5257],\n",
       "        [0.4795, 0.4869, 0.4847, 0.4700, 0.5079, 0.4837, 0.5109, 0.5203, 0.4934,\n",
       "         0.4955],\n",
       "        [0.5008, 0.4841, 0.5055, 0.4645, 0.4712, 0.4817, 0.5197, 0.4968, 0.4853,\n",
       "         0.5476],\n",
       "        [0.4646, 0.5213, 0.5020, 0.4431, 0.5304, 0.4712, 0.4918, 0.4690, 0.4887,\n",
       "         0.5296],\n",
       "        [0.4749, 0.5158, 0.4979, 0.4575, 0.5107, 0.4932, 0.5154, 0.4688, 0.4540,\n",
       "         0.5432],\n",
       "        [0.4648, 0.5022, 0.4980, 0.4849, 0.4694, 0.5189, 0.4699, 0.4430, 0.4723,\n",
       "         0.5409],\n",
       "        [0.4791, 0.5351, 0.4973, 0.4505, 0.5229, 0.4487, 0.5130, 0.4967, 0.4533,\n",
       "         0.5499],\n",
       "        [0.5027, 0.5108, 0.4834, 0.4443, 0.5057, 0.5111, 0.5267, 0.4721, 0.4454,\n",
       "         0.5435],\n",
       "        [0.4784, 0.5098, 0.4814, 0.4555, 0.5125, 0.4905, 0.4907, 0.5044, 0.4450,\n",
       "         0.5053],\n",
       "        [0.5101, 0.4931, 0.5032, 0.4675, 0.4785, 0.4510, 0.5063, 0.4962, 0.4537,\n",
       "         0.5142],\n",
       "        [0.4824, 0.4796, 0.5293, 0.4705, 0.4698, 0.5056, 0.5176, 0.4950, 0.4793,\n",
       "         0.5113],\n",
       "        [0.4725, 0.5086, 0.4660, 0.4724, 0.5273, 0.4999, 0.5023, 0.4900, 0.4564,\n",
       "         0.5311]], grad_fn=<SigmoidBackward0>)"
      ]
     },
     "execution_count": 6,
     "metadata": {},
     "output_type": "execute_result"
    }
   ],
   "source": [
    "y"
   ]
  },
  {
   "cell_type": "markdown",
   "id": "e7d1ec26-fc55-4df6-b886-d3c140c2da79",
   "metadata": {},
   "source": [
    "2. Define a neural network with a convolutional layer followed by two fully connected layers using the nn module. \n",
    "- Use the ReLU activation function for the hidden layers and the softmax activation function for the output layer. \n",
    "- Make the convolutional layer have 10 output channels, a kernel size of 5, and a stride of 1. \n",
    "- Make the first fully connected layer have 100 output units and the second fully connected layer have 10 output units (for the 10 possible digit classes in MNIST)."
   ]
  },
  {
   "cell_type": "code",
   "execution_count": null,
   "id": "a3eadc59-78c7-4c6e-8fcc-9028848059db",
   "metadata": {},
   "outputs": [],
   "source": [
    "class MyNet(nn.Module):\n",
    "    def __init__(self):\n",
    "        super(MyNet, self).__init__()\n",
    "        self.hidden1 = nn.Linear(784, 256)\n",
    "        self.hidden2 = nn.Linear(256, 128)\n",
    "        self.output = nn.Linear(128, 10)\n",
    "        \n",
    "    #The forward method is called internally for the MyNet class by the __call__ method.\n",
    "    def forward(self, x):\n",
    "        x = torch.relu(self.hidden1(x))\n",
    "        x = torch.relu(self.hidden2(x))\n",
    "        x = torch.sigmoid(self.output(x))\n",
    "        return x"
   ]
  },
  {
   "cell_type": "markdown",
   "id": "34ec5b94-0df0-4906-a337-5679ee1970c1",
   "metadata": {},
   "source": [
    "## Training Neural Networks:\n",
    "- Learn how to train a neural network using PyTorch's autograd and optim modules\n",
    "- Understand the concepts of loss functions, optimization algorithms, and learning rates"
   ]
  },
  {
   "cell_type": "markdown",
   "id": "1e83da25-5846-4e9c-839f-8705c149a570",
   "metadata": {},
   "source": [
    "## Data Loading:\n",
    "- Learn how to load and preprocess data using PyTorch's DataLoader and transforms modules\n",
    "- Understand how to prepare data for training and testing"
   ]
  },
  {
   "cell_type": "markdown",
   "id": "8f078b9d-cbe5-4f44-b51b-c765281c5d42",
   "metadata": {},
   "source": [
    "## Model Evaluation:\n",
    "- Learn how to evaluate the performance of a trained model on a test set\n",
    "- Understand the concepts of accuracy, precision, and recall"
   ]
  },
  {
   "cell_type": "markdown",
   "id": "e65e20a9-860d-4fdf-9e33-b156d5dca09c",
   "metadata": {},
   "source": [
    "## Advanced Topics:\n",
    "- Learn about advanced topics:\n",
    "    - convolutional neural networks\n",
    "    - recurrent neural networks\n",
    "    - transfer learning\n",
    "- Understand how to use PyTorch for tasks:\n",
    "    - image classification\n",
    "    - natural language processing\n",
    "    - reinforcement learning"
   ]
  },
  {
   "cell_type": "markdown",
   "id": "ec08e699-f187-41e3-a57b-f7570a8ea04e",
   "metadata": {},
   "source": [
    "## What are CNNs and what are they used for?\n",
    "\n",
    "Convolutional Neural Networks (CNNs) are a class of deep neural networks that are commonly used for image and video processing applications. They are particularly well-suited to problems where the input data has a grid-like structure, such as images, because they can learn spatial hierarchies of features from the data. CNNs consist of one or more convolutional layers, followed by one or more fully connected layers.\n",
    "\n",
    "## Convolutional layers and filters\n",
    "\n",
    "Convolutional layers are the building blocks of CNNs. They consist of a set of learnable filters, each of which is convolved with the input image to produce a set of feature maps. Each filter is a small matrix of weights that is trained to detect a particular feature in the input image, such as a horizontal or vertical edge. The output of a convolutional layer is a set of feature maps that represent different features of the input image.\n",
    "\n",
    "## Pooling layers\n",
    "\n",
    "Pooling layers are used to downsample the feature maps produced by the convolutional layers. They work by dividing the feature maps into non-overlapping regions and taking the maximum or average value within each region. This reduces the spatial dimensions of the feature maps while preserving the important features.\n",
    "\n",
    "## Activation functions for CNNs\n",
    "\n",
    "Activation functions are used to introduce nonlinearity into the output of the convolutional layers. This allows the CNN to learn more complex representations of the input data. Common activation functions for CNNs include ReLU (Rectified Linear Unit) and sigmoid.\n",
    "\n",
    "## Example: Image classification using a CNN\n",
    "An example of using CNNs is image classification, where the task is to classify an input image into one of several predefined categories. In this case, the CNN would consist of one or more convolutional layers, followed by one or more fully connected layers. The input image would be convolved with the learnable filters in the convolutional layers to produce a set of feature maps, which would then be downsampled using pooling layers. The output of the last fully connected layer would be passed through a softmax activation function to produce a probability distribution over the possible categories."
   ]
  },
  {
   "cell_type": "markdown",
   "id": "bec569a7-25de-45db-b6b6-907b27a59d88",
   "metadata": {},
   "source": [
    "Project idea:\n",
    "\n",
    "Let's say you want to build a model to recognize emotions in speech data. \n",
    "- Use a CNN to extract features from the audio signal\n",
    "- Use an RNN to analyze the sequence of features over time. \n",
    "\n",
    "You could also use transfer learning by starting with a pre-trained CNN that was trained on a large dataset of audio, and fine-tuning it for your specific task of emotion recognition."
   ]
  },
  {
   "cell_type": "markdown",
   "id": "7cc53d0c-6b1e-49ab-9146-62c2af16a78d",
   "metadata": {},
   "source": [
    "Recurrent Neural Networks (RNNs) are a type of neural network that is specialized for sequence data, such as time series data or text. They are unique because they have recurrent layers, which allow them to maintain a \"memory\" of past inputs. This makes RNNs particularly useful for tasks that require context or long-term dependencies, such as predicting the next word in a sentence or the next value in a time series.\n",
    "\n",
    "RNNs operate by processing one input at a time and updating their internal memory state based on the current input and the previous memory state. This means that RNNs can take in sequences of varying lengths and output variable-length sequences as well.\n",
    "\n",
    "To improve the performance of RNNs, Long Short-Term Memory (LSTM) and Gated Recurrent Unit (GRU) cells are often used in conjunction with them. These are specialized types of recurrent layers that allow RNNs to selectively retain or discard information in their memory, improving their ability to remember important information over long sequences.\n",
    "\n",
    "Overall, RNNs are a powerful tool for working with sequential data, and their ability to maintain memory across time makes them particularly useful for applications such as language modeling, speech recognition, and time series prediction."
   ]
  }
 ],
 "metadata": {
  "kernelspec": {
   "display_name": "Python 3 (ipykernel)",
   "language": "python",
   "name": "python3"
  },
  "language_info": {
   "codemirror_mode": {
    "name": "ipython",
    "version": 3
   },
   "file_extension": ".py",
   "mimetype": "text/x-python",
   "name": "python",
   "nbconvert_exporter": "python",
   "pygments_lexer": "ipython3",
   "version": "3.8.16"
  }
 },
 "nbformat": 4,
 "nbformat_minor": 5
}

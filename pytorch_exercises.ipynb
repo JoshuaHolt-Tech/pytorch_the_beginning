{
 "cells": [
  {
   "cell_type": "markdown",
   "id": "801a491b-5687-4107-8ea1-04e09d2ce930",
   "metadata": {},
   "source": [
    "## Tensor Operations:\n",
    "A tensor is a multi-dimensional array, similar to a NumPy array.\n",
    "In PyTorch, tensors can be created using the torch.Tensor class.\n",
    "Basic tensor operations like addition, subtraction, multiplication, and division can be performed using the standard arithmetic operators +, -, *, /.\n",
    "Here are some short exercises to help you get started:"
   ]
  },
  {
   "cell_type": "markdown",
   "id": "d333a049-c63b-4170-a466-0d796f65d33d",
   "metadata": {},
   "source": [
    "### Exercise 1: Creating Tensors\n",
    "Create a 2x3 tensor filled with zeros and a 3x2 tensor filled with ones using PyTorch. Print the tensors to verify that they are created correctly."
   ]
  },
  {
   "cell_type": "code",
   "execution_count": 1,
   "id": "7310a6ee-279a-40ac-91f0-8410698a5467",
   "metadata": {},
   "outputs": [
    {
     "name": "stdout",
     "output_type": "stream",
     "text": [
      "tensor([[0., 0., 0.],\n",
      "        [0., 0., 0.]])\n",
      "tensor([[1., 1.],\n",
      "        [1., 1.],\n",
      "        [1., 1.]])\n"
     ]
    }
   ],
   "source": [
    "import torch\n",
    "\n",
    "# Create a 2x3 tensor filled with zeros\n",
    "zeros_tensor = torch.zeros(2, 3)\n",
    "print(zeros_tensor)\n",
    "\n",
    "# Create a 3x2 tensor filled with ones\n",
    "ones_tensor = torch.ones(3, 2)\n",
    "print(ones_tensor)\n"
   ]
  },
  {
   "cell_type": "markdown",
   "id": "907fd5d7-8b39-4789-8593-7eb159227de9",
   "metadata": {},
   "source": [
    "### Exercise 2: Performing Basic Tensor Operations\n",
    "Perform basic tensor operations using PyTorch. Create two tensors of the same shape and perform addition, subtraction, multiplication, and division."
   ]
  },
  {
   "cell_type": "code",
   "execution_count": 2,
   "id": "21fa3e31-d2c5-4dcd-ab81-58055cfeac0a",
   "metadata": {},
   "outputs": [
    {
     "name": "stdout",
     "output_type": "stream",
     "text": [
      "tensor([[ 6,  8],\n",
      "        [10, 12]])\n",
      "tensor([[-4, -4],\n",
      "        [-4, -4]])\n",
      "tensor([[ 5, 12],\n",
      "        [21, 32]])\n",
      "tensor([[0.2000, 0.3333],\n",
      "        [0.4286, 0.5000]])\n"
     ]
    }
   ],
   "source": [
    "# Create two tensors of the same shape\n",
    "a = torch.tensor([[1, 2], [3, 4]])\n",
    "b = torch.tensor([[5, 6], [7, 8]])\n",
    "\n",
    "# Perform addition\n",
    "c = a + b\n",
    "print(c)\n",
    "\n",
    "# Perform subtraction\n",
    "d = a - b\n",
    "print(d)\n",
    "\n",
    "# Perform multiplication\n",
    "e = a * b\n",
    "print(e)\n",
    "\n",
    "# Perform division\n",
    "f = a / b\n",
    "print(f)\n"
   ]
  },
  {
   "cell_type": "markdown",
   "id": "4edc04b1-c7a9-4857-acb7-67a6bece11dc",
   "metadata": {},
   "source": [
    "## Automatic Differentiation:\n",
    "- Learn about automatic differentiation, a key feature of PyTorch that makes it easy to compute gradients for optimization\n",
    "- Understand the basics of backpropagation, which is used to train deep neural networks"
   ]
  },
  {
   "cell_type": "markdown",
   "id": "352ecaf5-5951-4c76-b326-0247a67f98cc",
   "metadata": {},
   "source": [
    "## Building Neural Networks:\n",
    "- Learn how to build neural networks using PyTorch's nn module\n",
    "- Understand the different types of layers and activation functions used in neural networks"
   ]
  },
  {
   "cell_type": "markdown",
   "id": "34ec5b94-0df0-4906-a337-5679ee1970c1",
   "metadata": {},
   "source": [
    "## Training Neural Networks:\n",
    "- Learn how to train a neural network using PyTorch's autograd and optim modules\n",
    "- Understand the concepts of loss functions, optimization algorithms, and learning rates"
   ]
  },
  {
   "cell_type": "markdown",
   "id": "1e83da25-5846-4e9c-839f-8705c149a570",
   "metadata": {},
   "source": [
    "## Data Loading:\n",
    "- Learn how to load and preprocess data using PyTorch's DataLoader and transforms modules\n",
    "- Understand how to prepare data for training and testing"
   ]
  },
  {
   "cell_type": "markdown",
   "id": "8f078b9d-cbe5-4f44-b51b-c765281c5d42",
   "metadata": {},
   "source": [
    "## Model Evaluation:\n",
    "- Learn how to evaluate the performance of a trained model on a test set\n",
    "- Understand the concepts of accuracy, precision, and recall"
   ]
  },
  {
   "cell_type": "markdown",
   "id": "e65e20a9-860d-4fdf-9e33-b156d5dca09c",
   "metadata": {},
   "source": [
    "## Advanced Topics:\n",
    "- Learn about advanced topics:\n",
    "    - convolutional neural networks\n",
    "    - recurrent neural networks\n",
    "    - transfer learning\n",
    "- Understand how to use PyTorch for tasks:\n",
    "    - image classification\n",
    "    - natural language processing\n",
    "    - reinforcement learning"
   ]
  }
 ],
 "metadata": {
  "kernelspec": {
   "display_name": "Python 3 (ipykernel)",
   "language": "python",
   "name": "python3"
  },
  "language_info": {
   "codemirror_mode": {
    "name": "ipython",
    "version": 3
   },
   "file_extension": ".py",
   "mimetype": "text/x-python",
   "name": "python",
   "nbconvert_exporter": "python",
   "pygments_lexer": "ipython3",
   "version": "3.10.9"
  }
 },
 "nbformat": 4,
 "nbformat_minor": 5
}
